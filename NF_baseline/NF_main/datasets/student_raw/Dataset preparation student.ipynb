{
 "cells": [
  {
   "cell_type": "code",
   "execution_count": 37,
   "metadata": {},
   "outputs": [],
   "source": [
    "import sys\n",
    "sys.path.append('../')\n",
    "import pandas as pd\n",
    "import csv\n",
    "from sklearn.preprocessing import LabelEncoder \n",
    "le  = LabelEncoder()        \n",
    "df_mat=pd.read_csv('student-mat.csv',sep =';')\n",
    "df_por=pd.read_csv('student-por.csv',sep =';')\n",
    "df = pd.concat([df_mat,df_por])\n",
    "for col in df.columns[:-4]:\n",
    "    if col not in ['age'] :\n",
    "        df[col] = le.fit_transform(df[col])\n",
    "for col in df.columns[:-4]:\n",
    "    if col  in ['Mjob','Fjob','guardian','famrel','reason','traveltime',\n",
    "                     'studytime','failures','freetime','Dalc','Walc','health','goout']:\n",
    "        df[col]+=1\n",
    "    \n",
    "df['G3'] = df['G3'].transform(lambda x: 1 if x>=10 else 0)\n",
    "df.to_csv('student_clean.csv',index=False)"
   ]
  }
 ],
 "metadata": {
  "kernelspec": {
   "display_name": "Python 3",
   "language": "python",
   "name": "python3"
  },
  "language_info": {
   "codemirror_mode": {
    "name": "ipython",
    "version": 3
   },
   "file_extension": ".py",
   "mimetype": "text/x-python",
   "name": "python",
   "nbconvert_exporter": "python",
   "pygments_lexer": "ipython3",
   "version": "3.8.10"
  }
 },
 "nbformat": 4,
 "nbformat_minor": 4
}
