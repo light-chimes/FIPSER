{
 "cells": [
  {
   "cell_type": "code",
   "execution_count": 1,
   "metadata": {},
   "outputs": [],
   "source": [
    "import numpy as np\n",
    "import sys\n",
    "sys.path.append(\"../\")\n",
    "from aif360.datasets.compas_dataset import CompasDataset\n",
    "\n",
    "def compas_data():\n",
    "    \"\"\"\n",
    "    Prepare the data of dataset Census Income\n",
    "    :return: X, Y, input shape and number of classes\n",
    "    \"\"\"\n",
    "    cd = CompasDataset()\n",
    "    # print((cd.feature_names))\n",
    "    # print(np.shape(cd.features))\n",
    "\n",
    "    X = np.array(cd.features, dtype=float)\n",
    "    Y = np.array(cd.labels, dtype=int)\n",
    "\n",
    "    Y = np.eye(2)[Y.reshape(-1)]\n",
    "    Y = np.array(Y, dtype=float)\n",
    "\n",
    "    input_shape = (None, len(X[0]))\n",
    "    nb_classes = 2\n",
    "    return X, Y, input_shape, nb_classes"
   ]
  },
  {
   "cell_type": "code",
   "execution_count": 3,
   "metadata": {},
   "outputs": [
    {
     "name": "stderr",
     "output_type": "stream",
     "text": [
      "ERROR:root:Internal Python error in the inspect module.\n",
      "Below is the traceback from this internal error.\n",
      "\n"
     ]
    },
    {
     "name": "stdout",
     "output_type": "stream",
     "text": [
      "IOError: [Errno 2] File b'/home/users/vmonjezi/.local/lib/python3.8/site-packages/aif360/datasets/../data/raw/compas/compas-scores-two-years.csv' does not exist: b'/home/users/vmonjezi/.local/lib/python3.8/site-packages/aif360/datasets/../data/raw/compas/compas-scores-two-years.csv'\n",
      "To use this class, please download the following file:\n",
      "\n",
      "\thttps://raw.githubusercontent.com/propublica/compas-analysis/master/compas-scores-two-years.csv\n",
      "\n",
      "and place it, as-is, in the folder:\n",
      "\n",
      "\t/home/users/vmonjezi/.local/lib/python3.8/site-packages/aif360/data/raw/compas\n",
      "\n",
      "Traceback (most recent call last):\n",
      "  File \"/home/users/vmonjezi/.local/lib/python3.8/site-packages/aif360/datasets/compas_dataset.py\", line 68, in __init__\n",
      "    df = pd.read_csv(filepath, index_col='id', na_values=na_values)\n",
      "  File \"/usr/lib/python3/dist-packages/pandas/io/parsers.py\", line 685, in parser_f\n",
      "    return _read(filepath_or_buffer, kwds)\n",
      "  File \"/usr/lib/python3/dist-packages/pandas/io/parsers.py\", line 457, in _read\n",
      "    parser = TextFileReader(fp_or_buf, **kwds)\n",
      "  File \"/usr/lib/python3/dist-packages/pandas/io/parsers.py\", line 895, in __init__\n",
      "    self._make_engine(self.engine)\n",
      "  File \"/usr/lib/python3/dist-packages/pandas/io/parsers.py\", line 1135, in _make_engine\n",
      "    self._engine = CParserWrapper(self.f, **self.options)\n",
      "  File \"/usr/lib/python3/dist-packages/pandas/io/parsers.py\", line 1917, in __init__\n",
      "    self._reader = parsers.TextReader(src, **kwds)\n",
      "  File \"pandas/_libs/parsers.pyx\", line 382, in pandas._libs.parsers.TextReader.__cinit__\n",
      "  File \"pandas/_libs/parsers.pyx\", line 689, in pandas._libs.parsers.TextReader._setup_parser_source\n",
      "FileNotFoundError: [Errno 2] File b'/home/users/vmonjezi/.local/lib/python3.8/site-packages/aif360/datasets/../data/raw/compas/compas-scores-two-years.csv' does not exist: b'/home/users/vmonjezi/.local/lib/python3.8/site-packages/aif360/datasets/../data/raw/compas/compas-scores-two-years.csv'\n",
      "\n",
      "During handling of the above exception, another exception occurred:\n",
      "\n",
      "Traceback (most recent call last):\n",
      "  File \"/usr/lib/python3/dist-packages/IPython/core/interactiveshell.py\", line 3331, in run_code\n",
      "    exec(code_obj, self.user_global_ns, self.user_ns)\n",
      "  File \"<ipython-input-3-152c89f5c188>\", line 1, in <module>\n",
      "    cd = CompasDataset()\n",
      "  File \"/home/users/vmonjezi/.local/lib/python3.8/site-packages/aif360/datasets/compas_dataset.py\", line 77, in __init__\n",
      "    sys.exit(1)\n",
      "SystemExit: 1\n",
      "\n",
      "During handling of the above exception, another exception occurred:\n",
      "\n",
      "Traceback (most recent call last):\n",
      "  File \"/usr/lib/python3/dist-packages/IPython/core/ultratb.py\", line 1148, in get_records\n",
      "    return _fixed_getinnerframes(etb, number_of_lines_of_context, tb_offset)\n",
      "  File \"/usr/lib/python3/dist-packages/IPython/core/ultratb.py\", line 316, in wrapped\n",
      "    return f(*args, **kwargs)\n",
      "  File \"/usr/lib/python3/dist-packages/IPython/core/ultratb.py\", line 350, in _fixed_getinnerframes\n",
      "    records = fix_frame_records_filenames(inspect.getinnerframes(etb, context))\n",
      "  File \"/usr/lib/python3.8/inspect.py\", line 1515, in getinnerframes\n",
      "    frameinfo = (tb.tb_frame,) + getframeinfo(tb, context)\n",
      "AttributeError: 'tuple' object has no attribute 'tb_frame'\n"
     ]
    },
    {
     "ename": "SystemExit",
     "evalue": "1",
     "output_type": "error",
     "traceback": [
      "An exception has occurred, use %tb to see the full traceback.\n",
      "\u001b[0;31m---------------------------------------------------------------------------\u001b[0m",
      "\nDuring handling of the above exception, another exception occurred:\n",
      "\u001b[0;31mSystemExit\u001b[0m\u001b[0;31m:\u001b[0m 1\n"
     ]
    }
   ],
   "source": [
    "cd = CompasDataset()"
   ]
  },
  {
   "cell_type": "code",
   "execution_count": null,
   "metadata": {},
   "outputs": [],
   "source": []
  }
 ],
 "metadata": {
  "kernelspec": {
   "display_name": "Python 3",
   "language": "python",
   "name": "python3"
  },
  "language_info": {
   "codemirror_mode": {
    "name": "ipython",
    "version": 3
   },
   "file_extension": ".py",
   "mimetype": "text/x-python",
   "name": "python",
   "nbconvert_exporter": "python",
   "pygments_lexer": "ipython3",
   "version": "3.8.10"
  }
 },
 "nbformat": 4,
 "nbformat_minor": 4
}
